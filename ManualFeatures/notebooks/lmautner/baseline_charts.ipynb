{
 "cells": [
  {
   "cell_type": "code",
   "execution_count": 1,
   "metadata": {
    "collapsed": true
   },
   "outputs": [],
   "source": [
    "import pandas as pd\n",
    "import numpy as np\n",
    "import sklearn\n",
    "import torch\n",
    "import time\n",
    "import os\n",
    "import matplotlib\n",
    "import matplotlib.pyplot as plt"
   ]
  },
  {
   "cell_type": "code",
   "execution_count": 2,
   "outputs": [],
   "source": [
    "data_dir = '../../data/results/020123'"
   ],
   "metadata": {
    "collapsed": false
   }
  },
  {
   "cell_type": "code",
   "execution_count": 3,
   "outputs": [],
   "source": [
    "rf_scores = pd.read_csv(f'{data_dir}/random_forest/scores.csv', index_col=0)\n",
    "svd_scores = pd.read_csv(f'{data_dir}/svd/scores.csv', index_col=0)"
   ],
   "metadata": {
    "collapsed": false
   }
  },
  {
   "cell_type": "code",
   "execution_count": 4,
   "outputs": [],
   "source": [
    "rf_times = pd.read_csv(f'{data_dir}/random_forest/times.csv', index_col=0)\n",
    "svd_times = pd.read_csv(f'{data_dir}/svd/times.csv', index_col=0)"
   ],
   "metadata": {
    "collapsed": false
   }
  },
  {
   "cell_type": "code",
   "execution_count": 5,
   "outputs": [],
   "source": [
    "rf_scores.columns = ['Random Forest']\n",
    "rf_times.columns = ['Random Forest']"
   ],
   "metadata": {
    "collapsed": false
   }
  },
  {
   "cell_type": "code",
   "execution_count": 6,
   "outputs": [],
   "source": [
    "svd_scores.columns = ['SVD']\n",
    "svd_times.columns = ['SVD']"
   ],
   "metadata": {
    "collapsed": false
   }
  },
  {
   "cell_type": "code",
   "execution_count": 16,
   "outputs": [
    {
     "data": {
      "text/plain": "<pandas.io.formats.style.Styler at 0x7f61e36f9e50>",
      "text/html": "<style type=\"text/css\">\n</style>\n<table id=\"T_8a87e\">\n  <thead>\n    <tr>\n      <th class=\"blank level0\" >&nbsp;</th>\n      <th id=\"T_8a87e_level0_col0\" class=\"col_heading level0 col0\" colspan=\"2\">Accuracy</th>\n    </tr>\n    <tr>\n      <th class=\"blank level1\" >&nbsp;</th>\n      <th id=\"T_8a87e_level1_col0\" class=\"col_heading level1 col0\" >Random Forest</th>\n      <th id=\"T_8a87e_level1_col1\" class=\"col_heading level1 col1\" >SVD</th>\n    </tr>\n  </thead>\n  <tbody>\n    <tr>\n      <th id=\"T_8a87e_level0_row0\" class=\"row_heading level0 row0\" >10</th>\n      <td id=\"T_8a87e_row0_col0\" class=\"data row0 col0\" >0.514240</td>\n      <td id=\"T_8a87e_row0_col1\" class=\"data row0 col1\" >0.507776</td>\n    </tr>\n    <tr>\n      <th id=\"T_8a87e_level0_row1\" class=\"row_heading level0 row1\" >50</th>\n      <td id=\"T_8a87e_row1_col0\" class=\"data row1 col0\" >0.593617</td>\n      <td id=\"T_8a87e_row1_col1\" class=\"data row1 col1\" >0.602707</td>\n    </tr>\n    <tr>\n      <th id=\"T_8a87e_level0_row2\" class=\"row_heading level0 row2\" >100</th>\n      <td id=\"T_8a87e_row2_col0\" class=\"data row2 col0\" >0.622097</td>\n      <td id=\"T_8a87e_row2_col1\" class=\"data row2 col1\" >0.624318</td>\n    </tr>\n    <tr>\n      <th id=\"T_8a87e_level0_row3\" class=\"row_heading level0 row3\" >200</th>\n      <td id=\"T_8a87e_row3_col0\" class=\"data row3 col0\" >0.644718</td>\n      <td id=\"T_8a87e_row3_col1\" class=\"data row3 col1\" >0.638659</td>\n    </tr>\n    <tr>\n      <th id=\"T_8a87e_level0_row4\" class=\"row_heading level0 row4\" >400</th>\n      <td id=\"T_8a87e_row4_col0\" class=\"data row4 col0\" >0.645728</td>\n      <td id=\"T_8a87e_row4_col1\" class=\"data row4 col1\" >0.640477</td>\n    </tr>\n    <tr>\n      <th id=\"T_8a87e_level0_row5\" class=\"row_heading level0 row5\" >518</th>\n      <td id=\"T_8a87e_row5_col0\" class=\"data row5 col0\" >0.639467</td>\n      <td id=\"T_8a87e_row5_col1\" class=\"data row5 col1\" >0.639265</td>\n    </tr>\n  </tbody>\n</table>\n"
     },
     "execution_count": 16,
     "metadata": {},
     "output_type": "execute_result"
    }
   ],
   "source": [
    "scores = pd.concat([rf_scores, svd_scores], axis=1)\n",
    "scores.columns = pd.MultiIndex.from_tuples([('Accuracy', 'Random Forest'), ('Accuracy', 'SVD')])\n",
    "scores.style"
   ],
   "metadata": {
    "collapsed": false
   }
  },
  {
   "cell_type": "code",
   "execution_count": 15,
   "outputs": [
    {
     "data": {
      "text/plain": "<pandas.io.formats.style.Styler at 0x7f61e35e0b50>",
      "text/html": "<style type=\"text/css\">\n</style>\n<table id=\"T_f66e3\">\n  <thead>\n    <tr>\n      <th class=\"blank level0\" >&nbsp;</th>\n      <th id=\"T_f66e3_level0_col0\" class=\"col_heading level0 col0\" colspan=\"2\">Time (sec)</th>\n    </tr>\n    <tr>\n      <th class=\"blank level1\" >&nbsp;</th>\n      <th id=\"T_f66e3_level1_col0\" class=\"col_heading level1 col0\" >Random Forest</th>\n      <th id=\"T_f66e3_level1_col1\" class=\"col_heading level1 col1\" >SVD</th>\n    </tr>\n  </thead>\n  <tbody>\n    <tr>\n      <th id=\"T_f66e3_level0_row0\" class=\"row_heading level0 row0\" >10</th>\n      <td id=\"T_f66e3_row0_col0\" class=\"data row0 col0\" >208.864099</td>\n      <td id=\"T_f66e3_row0_col1\" class=\"data row0 col1\" >90.649457</td>\n    </tr>\n    <tr>\n      <th id=\"T_f66e3_level0_row1\" class=\"row_heading level0 row1\" >50</th>\n      <td id=\"T_f66e3_row1_col0\" class=\"data row1 col0\" >206.681188</td>\n      <td id=\"T_f66e3_row1_col1\" class=\"data row1 col1\" >89.139222</td>\n    </tr>\n    <tr>\n      <th id=\"T_f66e3_level0_row2\" class=\"row_heading level0 row2\" >100</th>\n      <td id=\"T_f66e3_row2_col0\" class=\"data row2 col0\" >228.265371</td>\n      <td id=\"T_f66e3_row2_col1\" class=\"data row2 col1\" >116.621653</td>\n    </tr>\n    <tr>\n      <th id=\"T_f66e3_level0_row3\" class=\"row_heading level0 row3\" >200</th>\n      <td id=\"T_f66e3_row3_col0\" class=\"data row3 col0\" >308.972265</td>\n      <td id=\"T_f66e3_row3_col1\" class=\"data row3 col1\" >200.275673</td>\n    </tr>\n    <tr>\n      <th id=\"T_f66e3_level0_row4\" class=\"row_heading level0 row4\" >400</th>\n      <td id=\"T_f66e3_row4_col0\" class=\"data row4 col0\" >578.588287</td>\n      <td id=\"T_f66e3_row4_col1\" class=\"data row4 col1\" >471.493804</td>\n    </tr>\n    <tr>\n      <th id=\"T_f66e3_level0_row5\" class=\"row_heading level0 row5\" >518</th>\n      <td id=\"T_f66e3_row5_col0\" class=\"data row5 col0\" >697.789058</td>\n      <td id=\"T_f66e3_row5_col1\" class=\"data row5 col1\" >591.036516</td>\n    </tr>\n  </tbody>\n</table>\n"
     },
     "execution_count": 15,
     "metadata": {},
     "output_type": "execute_result"
    }
   ],
   "source": [
    "times = pd.concat([rf_times, svd_times], axis=1)\n",
    "times.columns = pd.MultiIndex.from_tuples([('Time (sec)', 'Random Forest'), ('Time (sec)', 'SVD')])\n",
    "times.style"
   ],
   "metadata": {
    "collapsed": false
   }
  },
  {
   "cell_type": "code",
   "execution_count": 22,
   "outputs": [
    {
     "data": {
      "text/plain": "<pandas.io.formats.style.Styler at 0x7f61e2ec2df0>",
      "text/html": "<style type=\"text/css\">\n</style>\n<table id=\"T_1c9ae\">\n  <thead>\n    <tr>\n      <th class=\"blank level0\" >&nbsp;</th>\n      <th id=\"T_1c9ae_level0_col0\" class=\"col_heading level0 col0\" colspan=\"2\">Accuracy</th>\n      <th id=\"T_1c9ae_level0_col2\" class=\"col_heading level0 col2\" colspan=\"2\">Time (sec)</th>\n    </tr>\n    <tr>\n      <th class=\"blank level1\" >&nbsp;</th>\n      <th id=\"T_1c9ae_level1_col0\" class=\"col_heading level1 col0\" >Random Forest</th>\n      <th id=\"T_1c9ae_level1_col1\" class=\"col_heading level1 col1\" >SVD</th>\n      <th id=\"T_1c9ae_level1_col2\" class=\"col_heading level1 col2\" >Random Forest</th>\n      <th id=\"T_1c9ae_level1_col3\" class=\"col_heading level1 col3\" >SVD</th>\n    </tr>\n  </thead>\n  <tbody>\n    <tr>\n      <th id=\"T_1c9ae_level0_row0\" class=\"row_heading level0 row0\" >10</th>\n      <td id=\"T_1c9ae_row0_col0\" class=\"data row0 col0\" >0.514240</td>\n      <td id=\"T_1c9ae_row0_col1\" class=\"data row0 col1\" >0.507776</td>\n      <td id=\"T_1c9ae_row0_col2\" class=\"data row0 col2\" >208.864099</td>\n      <td id=\"T_1c9ae_row0_col3\" class=\"data row0 col3\" >90.649457</td>\n    </tr>\n    <tr>\n      <th id=\"T_1c9ae_level0_row1\" class=\"row_heading level0 row1\" >50</th>\n      <td id=\"T_1c9ae_row1_col0\" class=\"data row1 col0\" >0.593617</td>\n      <td id=\"T_1c9ae_row1_col1\" class=\"data row1 col1\" >0.602707</td>\n      <td id=\"T_1c9ae_row1_col2\" class=\"data row1 col2\" >206.681188</td>\n      <td id=\"T_1c9ae_row1_col3\" class=\"data row1 col3\" >89.139222</td>\n    </tr>\n    <tr>\n      <th id=\"T_1c9ae_level0_row2\" class=\"row_heading level0 row2\" >100</th>\n      <td id=\"T_1c9ae_row2_col0\" class=\"data row2 col0\" >0.622097</td>\n      <td id=\"T_1c9ae_row2_col1\" class=\"data row2 col1\" >0.624318</td>\n      <td id=\"T_1c9ae_row2_col2\" class=\"data row2 col2\" >228.265371</td>\n      <td id=\"T_1c9ae_row2_col3\" class=\"data row2 col3\" >116.621653</td>\n    </tr>\n    <tr>\n      <th id=\"T_1c9ae_level0_row3\" class=\"row_heading level0 row3\" >200</th>\n      <td id=\"T_1c9ae_row3_col0\" class=\"data row3 col0\" >0.644718</td>\n      <td id=\"T_1c9ae_row3_col1\" class=\"data row3 col1\" >0.638659</td>\n      <td id=\"T_1c9ae_row3_col2\" class=\"data row3 col2\" >308.972265</td>\n      <td id=\"T_1c9ae_row3_col3\" class=\"data row3 col3\" >200.275673</td>\n    </tr>\n    <tr>\n      <th id=\"T_1c9ae_level0_row4\" class=\"row_heading level0 row4\" >400</th>\n      <td id=\"T_1c9ae_row4_col0\" class=\"data row4 col0\" >0.645728</td>\n      <td id=\"T_1c9ae_row4_col1\" class=\"data row4 col1\" >0.640477</td>\n      <td id=\"T_1c9ae_row4_col2\" class=\"data row4 col2\" >578.588287</td>\n      <td id=\"T_1c9ae_row4_col3\" class=\"data row4 col3\" >471.493804</td>\n    </tr>\n    <tr>\n      <th id=\"T_1c9ae_level0_row5\" class=\"row_heading level0 row5\" >518</th>\n      <td id=\"T_1c9ae_row5_col0\" class=\"data row5 col0\" >0.639467</td>\n      <td id=\"T_1c9ae_row5_col1\" class=\"data row5 col1\" >0.639265</td>\n      <td id=\"T_1c9ae_row5_col2\" class=\"data row5 col2\" >697.789058</td>\n      <td id=\"T_1c9ae_row5_col3\" class=\"data row5 col3\" >591.036516</td>\n    </tr>\n  </tbody>\n</table>\n"
     },
     "execution_count": 22,
     "metadata": {},
     "output_type": "execute_result"
    }
   ],
   "source": [
    "merged = pd.concat([scores, times], axis=1)\n",
    "merged.style"
   ],
   "metadata": {
    "collapsed": false
   }
  },
  {
   "cell_type": "code",
   "execution_count": 23,
   "outputs": [
    {
     "name": "stdout",
     "output_type": "stream",
     "text": [
      "\\begin{tabular}{lllrr}\n",
      " & \\multicolumn{2}{r}{Accuracy} & \\multicolumn{2}{r}{Time (sec)} \\\\\n",
      " & Random Forest & SVD & Random Forest & SVD \\\\\n",
      "10 & 51.42% & 50.78% & 208.864099 & 90.649457 \\\\\n",
      "50 & 59.36% & 60.27% & 206.681188 & 89.139222 \\\\\n",
      "100 & 62.21% & 62.43% & 228.265371 & 116.621653 \\\\\n",
      "200 & 64.47% & 63.87% & 308.972265 & 200.275673 \\\\\n",
      "400 & 64.57% & 64.05% & 578.588287 & 471.493804 \\\\\n",
      "518 & 63.95% & 63.93% & 697.789058 & 591.036516 \\\\\n",
      "\\end{tabular}\n",
      "\n"
     ]
    }
   ],
   "source": [
    "merged['Accuracy', 'Random Forest'] = ['{0:.2%}'.format(s) for s in merged['Accuracy', 'Random Forest']]\n",
    "merged['Accuracy', 'SVD'] = ['{0:.2%}'.format(s) for s in merged['Accuracy', 'SVD']]\n",
    "merged['Time (sec)', 'Random Forest'] = ['{0:.1f}'.format(s) for s in merged['Time (sec)', 'Random Forest']]\n",
    "merged['Time (sec)', 'SVD'] = ['{0:.1f}'.format(s) for s in merged['Time (sec)', 'SVD']]\n",
    "print(merged.style.to_latex())"
   ],
   "metadata": {
    "collapsed": false
   }
  }
 ],
 "metadata": {
  "kernelspec": {
   "display_name": "Python 3",
   "language": "python",
   "name": "python3"
  },
  "language_info": {
   "codemirror_mode": {
    "name": "ipython",
    "version": 2
   },
   "file_extension": ".py",
   "mimetype": "text/x-python",
   "name": "python",
   "nbconvert_exporter": "python",
   "pygments_lexer": "ipython2",
   "version": "2.7.6"
  }
 },
 "nbformat": 4,
 "nbformat_minor": 0
}
